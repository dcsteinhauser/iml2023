{
 "cells": [
  {
   "cell_type": "code",
   "execution_count": 3,
   "metadata": {},
   "outputs": [
    {
     "ename": "ModuleNotFoundError",
     "evalue": "No module named 'torch'",
     "output_type": "error",
     "traceback": [
      "\u001b[1;31m---------------------------------------------------------------------------\u001b[0m",
      "\u001b[1;31mModuleNotFoundError\u001b[0m                       Traceback (most recent call last)",
      "\u001b[1;32mc:\\Users\\julia\\Documents\\Programming\\iml2023\\Task1b\\main.ipynb Cell 1\u001b[0m in \u001b[0;36m3\n\u001b[0;32m      <a href='vscode-notebook-cell:/c%3A/Users/julia/Documents/Programming/iml2023/Task1b/main.ipynb#W0sZmlsZQ%3D%3D?line=0'>1</a>\u001b[0m \u001b[39mimport\u001b[39;00m \u001b[39mnumpy\u001b[39;00m \u001b[39mas\u001b[39;00m \u001b[39mnp\u001b[39;00m\n\u001b[0;32m      <a href='vscode-notebook-cell:/c%3A/Users/julia/Documents/Programming/iml2023/Task1b/main.ipynb#W0sZmlsZQ%3D%3D?line=1'>2</a>\u001b[0m \u001b[39mimport\u001b[39;00m \u001b[39mpandas\u001b[39;00m \u001b[39mas\u001b[39;00m \u001b[39mpd\u001b[39;00m\n\u001b[1;32m----> <a href='vscode-notebook-cell:/c%3A/Users/julia/Documents/Programming/iml2023/Task1b/main.ipynb#W0sZmlsZQ%3D%3D?line=2'>3</a>\u001b[0m \u001b[39mimport\u001b[39;00m \u001b[39mtorch\u001b[39;00m\n",
      "\u001b[1;31mModuleNotFoundError\u001b[0m: No module named 'torch'"
     ]
    }
   ],
   "source": [
    "import numpy as np\n",
    "import pandas as pd\n",
    "import torch\n"
   ]
  },
  {
   "cell_type": "code",
   "execution_count": 2,
   "metadata": {},
   "outputs": [
    {
     "name": "stdout",
     "output_type": "stream",
     "text": [
      "     x1    x2    x3    x4    x5\n",
      "0  0.02  0.05 -0.09 -0.43 -0.08\n",
      "1 -0.13  0.11 -0.08 -0.29 -0.03\n",
      "2  0.08  0.06 -0.07 -0.41 -0.03\n",
      "3  0.02 -0.12  0.01 -0.43 -0.02\n",
      "4 -0.14 -0.12 -0.08 -0.02 -0.08\n"
     ]
    }
   ],
   "source": [
    "\n",
    "def transform_data(X):\n",
    "    \"\"\"\n",
    "    This function transforms the 5 input features of matrix X (x_i denoting the i-th component of X) \n",
    "    into 21 new features phi(X) in the following manner:\n",
    "    5 linear features: phi_1(X) = x_1, phi_2(X) = x_2, phi_3(X) = x_3, phi_4(X) = x_4, phi_5(X) = x_5\n",
    "    5 quadratic features: phi_6(X) = x_1^2, phi_7(X) = x_2^2, phi_8(X) = x_3^2, phi_9(X) = x_4^2, phi_10(X) = x_5^2\n",
    "    5 exponential features: phi_11(X) = exp(x_1), phi_12(X) = exp(x_2), phi_13(X) = exp(x_3), phi_14(X) = exp(x_4), phi_15(X) = exp(x_5)\n",
    "    5 cosine features: phi_16(X) = cos(x_1), phi_17(X) = cos(x_2), phi_18(X) = cos(x_3), phi_19(X) = cos(x_4), phi_20(X) = cos(x_5)\n",
    "    1 constant features: phi_21(X)=1\n",
    "\n",
    "    Parameters\n",
    "    ----------\n",
    "    X: matrix of floats, dim = (700,5), inputs with 5 features\n",
    "\n",
    "    Returns\n",
    "    ----------\n",
    "    X_transformed: array of floats: dim = (700,21), transformed input with 21 features\n",
    "    \"\"\"\n",
    "    X_transformed = np.zeros((700, 21))\n",
    "    # TODO: Enter your code here\n",
    "\n",
    "    assert X_transformed.shape == (700, 21)\n",
    "    return X_transformed\n",
    "\n",
    "\n",
    "def fit(X, y):\n",
    "    \"\"\"\n",
    "    This function receives training data points, transform them, and then fits the linear regression on this \n",
    "    transformed data. Finally, it outputs the weights of the fitted linear regression. \n",
    "\n",
    "    Parameters\n",
    "    ----------\n",
    "    X: matrix of floats, dim = (700,5), inputs with 5 features\n",
    "    y: array of floats, dim = (700,), input labels)\n",
    "\n",
    "    Returns\n",
    "    ----------\n",
    "    w: array of floats: dim = (21,), optimal parameters of linear regression\n",
    "    \"\"\"\n",
    "    w = np.zeros((21,))\n",
    "    X_transformed = transform_data(X)\n",
    "    # TODO: Enter your code here\n",
    "    assert w.shape == (21,)\n",
    "    return w\n",
    "\n",
    "\n",
    "# Main function. You don't have to change this\n",
    "if __name__ == \"__main__\":\n",
    "    # Data loading\n",
    "    data = pd.read_csv(\"train.csv\")\n",
    "    y = data[\"y\"].to_numpy()\n",
    "    data = data.drop(columns=[\"Id\", \"y\"])\n",
    "    # print a few data samples\n",
    "    print(data.head())\n",
    "\n",
    "    X = data.to_numpy()\n",
    "    # The function retrieving optimal LR parameters\n",
    "    w = fit(X, y)\n",
    "    # Save results in the required format\n",
    "    np.savetxt(\"./results.csv\", w, fmt=\"%.12f\")\n"
   ]
  }
 ],
 "metadata": {
  "kernelspec": {
   "display_name": "IML",
   "language": "python",
   "name": "python3"
  },
  "language_info": {
   "codemirror_mode": {
    "name": "ipython",
    "version": 3
   },
   "file_extension": ".py",
   "mimetype": "text/x-python",
   "name": "python",
   "nbconvert_exporter": "python",
   "pygments_lexer": "ipython3",
   "version": "3.10.9"
  },
  "orig_nbformat": 4
 },
 "nbformat": 4,
 "nbformat_minor": 2
}
