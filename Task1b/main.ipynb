
def transform_data(X):
    """
    This function transforms the 5 input features of matrix X (x_i denoting the i-th component of X) 
    into 21 new features phi(X) in the following manner:
    5 linear features: phi_1(X) = x_1, phi_2(X) = x_2, phi_3(X) = x_3, phi_4(X) = x_4, phi_5(X) = x_5
    5 quadratic features: phi_6(X) = x_1^2, phi_7(X) = x_2^2, phi_8(X) = x_3^2, phi_9(X) = x_4^2, phi_10(X) = x_5^2
    5 exponential features: phi_11(X) = exp(x_1), phi_12(X) = exp(x_2), phi_13(X) = exp(x_3), phi_14(X) = exp(x_4), phi_15(X) = exp(x_5)
    5 cosine features: phi_16(X) = cos(x_1), phi_17(X) = cos(x_2), phi_18(X) = cos(x_3), phi_19(X) = cos(x_4), phi_20(X) = cos(x_5)
    1 constant features: phi_21(X)=1

    Parameters
    ----------
    X: matrix of floats, dim = (700,5), inputs with 5 features

    Returns
    ----------
    X_transformed: array of floats: dim = (700,21), transformed input with 21 features
    """
    X_transformed = np.zeros((700, 21))
    # TODO: Enter your code here
    for i in range(5):
        X_transformed[:,i] = X[:,i]
        X_transformed[:, i+5] = np.square(X[:,i])
        X_transformed[:,i+10] = np.exp(X[:,i])
        X_transformed[:,i+15] = np.cos(X[:,i])
    X_transformed[:,20] = 1
    sns.scatterplot(data=X_transformed)
    plt.show()
    assert X_transformed.shape == (700, 21)
    return X_transformed
def validate_noroot(X,y,w):

        
    X_transformed = X
    X_validate = torch.from_numpy(X_transformed.astype(np.double))
    y_validate = torch.from_numpy(y.reshape(y.shape[0],1).astype(np.double))
    model_validate = torch.nn.Linear(21,1)
    model_validate.weight = torch.nn.Parameter(torch.from_numpy(w.reshape(1,21).astype(np.float64)))
  
    loss_func =  torch.nn.MSELoss()
    y_hat = model_validate(X_validate)
    loss = (loss_func(y_hat, y_validate))
    print(f'Validation loss no root: {loss.item()}')
    return loss.item()

def validate(X, y, w):
    
    X_transformed = X
    X_validate = torch.from_numpy(X_transformed.astype(np.float64))
    y_validate = torch.from_numpy(y.reshape(y.shape[0],1).astype(np.float64))
    model_validate = torch.nn.Linear(21,1)
    model_validate.weight = torch.nn.Parameter(torch.from_numpy(w.reshape(1,21).astype(np.float64)))
  
    loss_func =  torch.nn.MSELoss()
    y_hat = model_validate(X_validate)
    loss = torch.sqrt(loss_func(y_hat, y_validate))
    print(f'Validation loss: {loss.item()}')
    return loss.item()

def fit(X, y, lr, momentum, epochs, l1):
    """
    This function receives training data points, transform them, and then fits the linear regression on this 
    transformed data. Finally, it outputs the weights of the fitted linear regression. 

    Parameters
    ----------
    X: matrix of floats, dim = (700,5), inputs with 5 features
    y: array of floats, dim = (700,), input labels)

    Returns
    ----------
    w: array of floats: dim = (21,), optimal parameters of linear regression
    """
    X_train = torch.from_numpy(X.astype(np.float64))
    y_train = torch.from_numpy(y.reshape(y.shape[0],1).astype(np.float64))
    model = torch.nn.Linear(21,1, bias=False)
    loss_func = torch.nn.MSELoss()
    optimization = torch.optim.SGD(model.parameters(), lr, momentum,weight_decay = l1)

    for epoch in range(epochs):
        y_hat = model(X_train)
        loss = torch.sqrt(loss_func(y_hat, y_train)) + 0*l1*torch.norm(model.weight,1)
        loss.backward()
        optimization.step()
        optimization.zero_grad()
        if True == False:
            print(f'Epochs {epochs}: loss {loss.item()}')


    w = model.weight.detach().numpy().reshape(21)
    print(f'loss {loss.item()}')
    # TODO: Enter your code here
    assert w.shape == (21,)
    return w


# Main function. You don't have to change this
if __name__ == "__main__":
    # Data loading
    torch.set_default_dtype(torch.float64)
    data = pd.read_csv("train.csv")
    y = data["y"].to_numpy()
    data = data.drop(columns=["Id", "y"])
    # print a few data samples
    print(data.head())
    sns.scatterplot(data=data)
    #show the plot
    plt.show()


    X = transform_data(data.to_numpy())
    
    print(type(X[1][1]))
    # Extract 100% of the data for training
    X_train = X[0:700, :]
    y_train = y[0:700]
    # Extract 15% of the data for validation
    X_val = X[00:100, :]
    y_val = y[00:100]
    # Fit the model
    validation_performance = {}
    for lr in np.linspace(0.01, 0.01, 1):
        print(f'lr: {lr}', end="\n")
        print('________________________')
        for l1 in np.linspace(0.00001, 0.15, 20):
            
            for epochs in [500]:
                print(f'l1: {l1} epoch: {epochs}')
                w = fit(X_train, y_train, lr, 0.31, epochs, l1)
                # Compute the validation loss
                validation_performance[l1] = validate(X_val, y_val, w)
        print('________________________', end="\n\n\n")
    fig = plt.figure()
    ax = fig.add_subplot()
    ax.plot(validation_performance.keys(), validation_performance.values(), color='tab:blue')
    # Save results in the required format
    plt.show()
    np.savetxt("./results.csv", w, fmt="%.12f")
